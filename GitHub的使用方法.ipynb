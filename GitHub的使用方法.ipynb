{
 "cells": [
  {
   "cell_type": "markdown",
   "id": "8721c7ac",
   "metadata": {},
   "source": [
    "# GitHub的使用\n",
    "\n",
    "### 使用git进行下载\n",
    "\n",
    "1. 选择想要进行保存的文件夹，右键Git Bash Here\n",
    "2. 输入 \n",
    "`git clone xxxxx.git` \n",
    "即可进行下载\n",
    "\n",
    "### 找开源项目的一些途径\n",
    "*  https://github.com/trending/\n",
    "\n",
    "* https://github.com/521xueweihan/HelloGitHub\n",
    "\n",
    "* https://github.com/ruanyf/weekly\n",
    "\n",
    "* https://www.zhihu.com/column/mm-fe\n",
    "\n",
    "### 特殊的查找资源小技巧-常用前缀后缀 \n",
    "* 找百科大全 awesome xxx\n",
    "\n",
    "* 找例子 xxx sample\n",
    "\n",
    "* 找空项目架子 xxx starter / xxx boilerplate \n",
    "\n",
    "* 找教程  xxx tutorial"
   ]
  },
  {
   "cell_type": "code",
   "execution_count": null,
   "id": "d37e952a",
   "metadata": {},
   "outputs": [],
   "source": []
  },
  {
   "cell_type": "code",
   "execution_count": null,
   "id": "8c38e0c6",
   "metadata": {},
   "outputs": [],
   "source": []
  }
 ],
 "metadata": {
  "kernelspec": {
   "display_name": "Python 3",
   "language": "python",
   "name": "python3"
  },
  "language_info": {
   "codemirror_mode": {
    "name": "ipython",
    "version": 3
   },
   "file_extension": ".py",
   "mimetype": "text/x-python",
   "name": "python",
   "nbconvert_exporter": "python",
   "pygments_lexer": "ipython3",
   "version": "3.6.5"
  }
 },
 "nbformat": 4,
 "nbformat_minor": 5
}
