{
 "cells": [
  {
   "cell_type": "markdown",
   "id": "3b0eb893",
   "metadata": {},
   "source": [
    "## numpy基础运算Part1"
   ]
  },
  {
   "cell_type": "markdown",
   "id": "18a4c76e",
   "metadata": {},
   "source": [
    "### 基础运算"
   ]
  },
  {
   "cell_type": "code",
   "execution_count": 11,
   "id": "92b7cc37",
   "metadata": {},
   "outputs": [
    {
     "name": "stdout",
     "output_type": "stream",
     "text": [
      "[10 21 32 43]\n",
      "[10 19 28 37]\n",
      "[0 1 4 9]\n",
      "[  0  20  60 120]\n"
     ]
    }
   ],
   "source": [
    "import numpy as np\n",
    "array_a = np.array([10,20,30,40])\n",
    "array_b = np.arange(4)\n",
    "print(array_a + array_b)\n",
    "print(array_a - array_b)\n",
    "print(array_b**2)\n",
    "print(array_a*array_b)"
   ]
  },
  {
   "cell_type": "markdown",
   "id": "1fbe763c",
   "metadata": {},
   "source": [
    "### 函数运算"
   ]
  },
  {
   "cell_type": "code",
   "execution_count": 16,
   "id": "00994137",
   "metadata": {},
   "outputs": [
    {
     "name": "stdout",
     "output_type": "stream",
     "text": [
      "[-0.54402111  0.91294525 -0.98803162  0.74511316]\n",
      "[False  True False  True]\n"
     ]
    }
   ],
   "source": [
    "array_c = np.sin(array_a)#弧度制\n",
    "print(array_c)\n",
    "print(array_c > 0.5)"
   ]
  },
  {
   "cell_type": "markdown",
   "id": "740063df",
   "metadata": {},
   "source": [
    "### 对多维数组的相乘操作"
   ]
  },
  {
   "cell_type": "code",
   "execution_count": 19,
   "id": "4a0305d5",
   "metadata": {},
   "outputs": [
    {
     "name": "stdout",
     "output_type": "stream",
     "text": [
      "[[0 1]\n",
      " [1 0]]\n",
      "[[0 1]\n",
      " [2 3]]\n",
      "[[2 3]\n",
      " [0 1]]\n"
     ]
    }
   ],
   "source": [
    "a = np.array([[0,1],[1,0]])\n",
    "b = np.arange(4).reshape((2,2))\n",
    "print(a)\n",
    "print(b)\n",
    "print(np.dot(a,b))"
   ]
  },
  {
   "cell_type": "markdown",
   "id": "db35cc8e",
   "metadata": {},
   "source": [
    "### sum( ),min( ),max( )函数的使用"
   ]
  },
  {
   "cell_type": "code",
   "execution_count": 24,
   "id": "8251fbda",
   "metadata": {},
   "outputs": [
    {
     "name": "stdout",
     "output_type": "stream",
     "text": [
      "[[0.45888926 0.28782931 0.99265402 0.70312526]\n",
      " [0.9912903  0.05823525 0.62063476 0.42645191]]\n",
      "4.539110077653827\n",
      "0.058235248833443665\n",
      "0.9926540229313691\n",
      "[1.45017956 0.34606456 1.61328878 1.12957717]\n"
     ]
    }
   ],
   "source": [
    "a = np.random.random((2,4))\n",
    "print(a)\n",
    "print(np.sum(a))\n",
    "print(np.min(a))\n",
    "print(np.max(a))\n",
    "print(np.sum(a,axis=0))#axis取0，按列为查找单元；axis取1，按行为查找单元"
   ]
  },
  {
   "cell_type": "markdown",
   "id": "a0c5ff71",
   "metadata": {},
   "source": [
    "## numpy基础运算Part2"
   ]
  },
  {
   "cell_type": "markdown",
   "id": "036ce370",
   "metadata": {},
   "source": [
    "### argmin( )和argmax( )函数"
   ]
  },
  {
   "cell_type": "code",
   "execution_count": 30,
   "id": "13c7f5df",
   "metadata": {},
   "outputs": [
    {
     "name": "stdout",
     "output_type": "stream",
     "text": [
      "[[0.51239732 0.05112424 0.04564404 0.92028433]\n",
      " [0.60576448 0.96594601 0.8676181  0.65661195]\n",
      " [0.44636888 0.19554481 0.39373629 0.40745677]\n",
      " [0.47097489 0.13882368 0.73208829 0.00098322]]\n",
      "15\n",
      "5\n"
     ]
    }
   ],
   "source": [
    "a = np.random.random(16).reshape((4,4))\n",
    "print(a)\n",
    "b = np.argmin(a)\n",
    "print(b)\n",
    "b = np.argmax(a)\n",
    "print(b)\n"
   ]
  },
  {
   "cell_type": "markdown",
   "id": "f6fe777b",
   "metadata": {},
   "source": [
    "### 求均值"
   ]
  },
  {
   "cell_type": "code",
   "execution_count": 31,
   "id": "9beb300f",
   "metadata": {},
   "outputs": [
    {
     "name": "stdout",
     "output_type": "stream",
     "text": [
      "0.46321045695303864\n",
      "0.46321045695303864\n"
     ]
    }
   ],
   "source": [
    "print(np.mean(a))\n",
    "print(np.average(a))"
   ]
  },
  {
   "cell_type": "markdown",
   "id": "8a8f9857",
   "metadata": {},
   "source": [
    "### cumsum( )函数"
   ]
  },
  {
   "cell_type": "code",
   "execution_count": 34,
   "id": "654ddabc",
   "metadata": {},
   "outputs": [
    {
     "name": "stdout",
     "output_type": "stream",
     "text": [
      "[ 0  1  2  3  4  5  6  7  8  9 10 11 12 13 14 15]\n",
      "[  0   1   3   6  10  15  21  28  36  45  55  66  78  91 105 120]\n"
     ]
    }
   ],
   "source": [
    "a = np.arange(16)\n",
    "print(a)\n",
    "print(np.cumsum(a))#累加函数"
   ]
  },
  {
   "cell_type": "markdown",
   "id": "8d07229e",
   "metadata": {},
   "source": [
    "### diff( )函数"
   ]
  },
  {
   "cell_type": "code",
   "execution_count": 40,
   "id": "eecdebc4",
   "metadata": {},
   "outputs": [
    {
     "name": "stdout",
     "output_type": "stream",
     "text": [
      "[ 0  1  2  3  4  5  6  7  8  9 10 11 12 13 14 15]\n",
      "[1 1 1 1 1 1 1 1 1 1 1 1 1 1 1]\n",
      "[ 0  2  4  6  8 10 12 14]\n",
      "[2 2 2 2 2 2 2]\n"
     ]
    }
   ],
   "source": [
    "a = np.arange(16)\n",
    "print(a)\n",
    "print(np.diff(a))\n",
    "b = np.arange(0,16,2)\n",
    "print(b)\n",
    "print(np.diff(b))# 累差函数"
   ]
  },
  {
   "cell_type": "markdown",
   "id": "753fbfb0",
   "metadata": {},
   "source": [
    "### sort( )函数"
   ]
  },
  {
   "cell_type": "code",
   "execution_count": 48,
   "id": "d24cb9e8",
   "metadata": {},
   "outputs": [
    {
     "name": "stdout",
     "output_type": "stream",
     "text": [
      "[0.34234744 0.1344384  0.33469275 0.95557385 0.99471146 0.07069196\n",
      " 0.02916013 0.4494076  0.12788424 0.94421766 0.99178646 0.32644535\n",
      " 0.76469607 0.27488995 0.02921415 0.772519  ]\n",
      "[0.02916013 0.02921415 0.07069196 0.12788424 0.1344384  0.27488995\n",
      " 0.32644535 0.33469275 0.34234744 0.4494076  0.76469607 0.772519\n",
      " 0.94421766 0.95557385 0.99178646 0.99471146]\n",
      "[[0.34234744 0.1344384  0.33469275 0.95557385]\n",
      " [0.99471146 0.07069196 0.02916013 0.4494076 ]\n",
      " [0.12788424 0.94421766 0.99178646 0.32644535]\n",
      " [0.76469607 0.27488995 0.02921415 0.772519  ]]\n",
      "[[0.1344384  0.33469275 0.34234744 0.95557385]\n",
      " [0.02916013 0.07069196 0.4494076  0.99471146]\n",
      " [0.12788424 0.32644535 0.94421766 0.99178646]\n",
      " [0.02921415 0.27488995 0.76469607 0.772519  ]]\n"
     ]
    }
   ],
   "source": [
    "a = np.random.random(16)\n",
    "print(a)\n",
    "print(np.sort(a))\n",
    "b = a.reshape((4,4))\n",
    "print(b)\n",
    "print(np.sort(b))#排序函数"
   ]
  },
  {
   "cell_type": "markdown",
   "id": "260ad5f4",
   "metadata": {},
   "source": [
    "### 矩阵的转置"
   ]
  },
  {
   "cell_type": "code",
   "execution_count": 53,
   "id": "9a32a0e3",
   "metadata": {},
   "outputs": [
    {
     "name": "stdout",
     "output_type": "stream",
     "text": [
      "[[ 0  1  2  3]\n",
      " [ 4  5  6  7]\n",
      " [ 8  9 10 11]\n",
      " [12 13 14 15]]\n",
      "[[ 0  4  8 12]\n",
      " [ 1  5  9 13]\n",
      " [ 2  6 10 14]\n",
      " [ 3  7 11 15]]\n",
      "[[ 0  4  8 12]\n",
      " [ 1  5  9 13]\n",
      " [ 2  6 10 14]\n",
      " [ 3  7 11 15]]\n"
     ]
    }
   ],
   "source": [
    "a = np.arange(16).reshape((4,4))\n",
    "print(a)\n",
    "print(a.T)\n",
    "print(np.transpose(a))"
   ]
  },
  {
   "cell_type": "code",
   "execution_count": null,
   "id": "b9e8f214",
   "metadata": {},
   "outputs": [],
   "source": []
  }
 ],
 "metadata": {
  "kernelspec": {
   "display_name": "Python 3",
   "language": "python",
   "name": "python3"
  },
  "language_info": {
   "codemirror_mode": {
    "name": "ipython",
    "version": 3
   },
   "file_extension": ".py",
   "mimetype": "text/x-python",
   "name": "python",
   "nbconvert_exporter": "python",
   "pygments_lexer": "ipython3",
   "version": "3.6.5"
  }
 },
 "nbformat": 4,
 "nbformat_minor": 5
}
