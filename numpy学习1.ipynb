{
 "cells": [
  {
   "cell_type": "markdown",
   "id": "69625adf",
   "metadata": {},
   "source": [
    "# numpy学习\n"
   ]
  },
  {
   "cell_type": "markdown",
   "id": "c309041a",
   "metadata": {},
   "source": [
    "## numpy属性\n",
    "****************\n",
    "1. 基础知识\n",
    "\n",
    "    `ndim`:维度\n",
    "\n",
    "    `shape`:行数和列数\n",
    "\n",
    "    `size`:元素个数\n",
    "    \n",
    "***********\n",
    "\n",
    "2. 具体操作\n",
    "\n",
    "    使用`numpy`首先要导入模块:\n",
    "\n",
    "    ```python\n",
    "    import numpy as np\n",
    "    ```\n",
    "    \n",
    "    列表转化为矩阵:\n",
    "    ```python\n",
    "    array = np.array()\n",
    "    ```\n",
    "    \n",
    "    使用以下命令查看矩阵属性：\n",
    "    ```python\n",
    "    array.ndim 查看维度\n",
    "    array.shape 查看矩阵大小\n",
    "    array.size 查看矩阵元素个数\n",
    "    ```\n",
    "****************"
   ]
  },
  {
   "cell_type": "markdown",
   "id": "68311176",
   "metadata": {},
   "source": [
    "## 在numpy中创建array"
   ]
  },
  {
   "cell_type": "markdown",
   "id": "0a986cc8",
   "metadata": {},
   "source": [
    "## 关键字\n",
    "```python\n",
    "array:创建数组\n",
    "dtype:指定数据类型\n",
    "zeros:创建数据类型全为0\n",
    "ones:创建数据类型全为1\n",
    "empty:创建数据类型接近0\n",
    "arrange:按指定范围创建数据\n",
    "linspace:创建等间隔线段\n",
    "```"
   ]
  },
  {
   "cell_type": "code",
   "execution_count": 9,
   "id": "9ba33053",
   "metadata": {},
   "outputs": [
    {
     "name": "stdout",
     "output_type": "stream",
     "text": [
      "[ 2 23  4]\n"
     ]
    }
   ],
   "source": [
    "import numpy as np\n",
    "a = np.array([2,23,4])\n",
    "print(a)"
   ]
  },
  {
   "cell_type": "code",
   "execution_count": 11,
   "id": "1c73a6d3",
   "metadata": {},
   "outputs": [
    {
     "name": "stdout",
     "output_type": "stream",
     "text": [
      "int64\n",
      "int32\n",
      "float64\n",
      "float32\n"
     ]
    }
   ],
   "source": [
    "a = np.array([2,23,4],dtype = np.int64)\n",
    "print(a.dtype)\n",
    "a = np.array([2,23,4],dtype = np.int32)\n",
    "print(a.dtype)\n",
    "a = np.array([2,23,4],dtype = np.float)\n",
    "print(a.dtype)\n",
    "a = np.array([2,23,4],dtype = np.float32)\n",
    "print(a.dtype)"
   ]
  },
  {
   "cell_type": "code",
   "execution_count": 22,
   "id": "c4ae3997",
   "metadata": {},
   "outputs": [
    {
     "name": "stdout",
     "output_type": "stream",
     "text": [
      "[[ 2 23  4]\n",
      " [ 2 32  4]]\n",
      "[[0. 0. 0. 0.]\n",
      " [0. 0. 0. 0.]\n",
      " [0. 0. 0. 0.]]\n",
      "[[1 1 1 1]\n",
      " [1 1 1 1]\n",
      " [1 1 1 1]]\n",
      "[[0. 0. 0. 0.]\n",
      " [0. 0. 0. 0.]\n",
      " [0. 0. 0. 0.]]\n",
      "[10 12 14 16 18]\n",
      "[[ 0  1  2  3]\n",
      " [ 4  5  6  7]\n",
      " [ 8  9 10 11]]\n",
      "[ 1.          1.47368421  1.94736842  2.42105263  2.89473684  3.36842105\n",
      "  3.84210526  4.31578947  4.78947368  5.26315789  5.73684211  6.21052632\n",
      "  6.68421053  7.15789474  7.63157895  8.10526316  8.57894737  9.05263158\n",
      "  9.52631579 10.        ]\n",
      "[[ 1.          1.47368421  1.94736842  2.42105263  2.89473684]\n",
      " [ 3.36842105  3.84210526  4.31578947  4.78947368  5.26315789]\n",
      " [ 5.73684211  6.21052632  6.68421053  7.15789474  7.63157895]\n",
      " [ 8.10526316  8.57894737  9.05263158  9.52631579 10.        ]]\n"
     ]
    }
   ],
   "source": [
    "a = np.array([[2,23,4],[2,32,4]])\n",
    "print(a)\n",
    "a = np.zeros((3,4))\n",
    "print(a)\n",
    "a = np.ones((3,4),dtype = np.int)\n",
    "print(a)\n",
    "a = np.empty((3,4))\n",
    "print(a)\n",
    "a = np.arange(10,20,2)\n",
    "print(a)\n",
    "a = np.arange((12)).reshape((3,4))\n",
    "print(a)\n",
    "a = np.linspace(1,10,20)\n",
    "print(a)\n",
    "a = np.linspace(1,10,20).reshape((4,5))\n",
    "print(a)"
   ]
  },
  {
   "cell_type": "code",
   "execution_count": null,
   "id": "0415b1ff",
   "metadata": {},
   "outputs": [],
   "source": []
  },
  {
   "cell_type": "code",
   "execution_count": null,
   "id": "98bce178",
   "metadata": {},
   "outputs": [],
   "source": []
  }
 ],
 "metadata": {
  "kernelspec": {
   "display_name": "Python 3",
   "language": "python",
   "name": "python3"
  },
  "language_info": {
   "codemirror_mode": {
    "name": "ipython",
    "version": 3
   },
   "file_extension": ".py",
   "mimetype": "text/x-python",
   "name": "python",
   "nbconvert_exporter": "python",
   "pygments_lexer": "ipython3",
   "version": "3.6.5"
  }
 },
 "nbformat": 4,
 "nbformat_minor": 5
}
